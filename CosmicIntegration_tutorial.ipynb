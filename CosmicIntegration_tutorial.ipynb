{
 "cells": [
  {
   "cell_type": "markdown",
   "id": "d69d65d0",
   "metadata": {},
   "source": [
    "# COMPAS Cosmic Integration Tutorial\n",
    "\n",
    "In this jupyter notebook we will run the COMPAS Cosmic Integration post-processing scripts using different SFRD prescriptions available in the default COMPAS. The data used for this tutorial is the COMPAS_Output.h5 from the Zenodo https://zenodo.org/record/5595426 from the paper https://arxiv.org/pdf/2010.00002.pdf by Jeff Riley. Note that this data is run with a **slightly older version of COMPAS**. This requires the use of an older version of ClassCOMPAS.py, or you'll get some issues with the naming conventions within the COMPAS data file.<br>\n",
    "\n",
    "Notebook by Sasha Levina, based off of a part of the Chemically Homogeneous Evolution Tutorial by Floor Broekgaarden, Jeff Riley, and Ilya Mandel, originally created for the Saas Fee PhD School. <br>\n",
    "\n",
    "\n",
    "\n"
   ]
  },
  {
   "cell_type": "markdown",
   "id": "480b8a96",
   "metadata": {},
   "source": [
    "Throughout this notebook and in class we will use several acronyms and definitions listed below    \n",
    "    \n",
    "    \n",
    "    \n",
    "### Definitions: \n",
    "    \n",
    " - CHE: Chemically Homogeneous Evolution\n",
    " - GW: Gravitational Waves \n",
    " - DCO: Double Compact Object \n",
    " - BH: Black Hole\n",
    " - NS: Neutron Star\n",
    " - Primary: in this notebook always refers to the star that was most massive at the zero age main sequence (ZAMS)\n",
    " - Secondary: in this notebook always refers to the star that was least massive at the zero age main sequence (ZAMS)\n",
    " - ZAMS: Zero Age Main Sequence: this is in COMPAS where stars start their lives. \n",
    "    "
   ]
  },
  {
   "cell_type": "code",
   "execution_count": null,
   "id": "ed54cf65",
   "metadata": {},
   "outputs": [],
   "source": [
    "# First we will import some of the packages that we will use \n",
    "\n",
    "import h5py as h5\n",
    "from IPython.display import Image # to open images in Ipython "
   ]
  },
  {
   "cell_type": "code",
   "execution_count": null,
   "id": "64224ff3",
   "metadata": {},
   "outputs": [],
   "source": [
    "# Add path to where the COMPAS_Output.h5 file is stored\n",
    "\n",
    "COMPASpath = '/Users/sashalvna/Research/Cosmic_integration_tutorial/COMPAS_Output.h5' # change this line! \n",
    "\n",
    "# The following line reads in the data \n",
    "COMPASdata = h5.File(COMPASpath, 'r')\n",
    "list(COMPASdata.keys()) #check the keys!! If you're using a more recent COMPAS version you might get some issues from the naming here\n",
    "\n",
    "# Can check these as well if it's not finding the right variable names (uncomment to run)\n",
    "#list(COMPASdata['DoubleCompactObjects'].keys()) \n",
    "#list(COMPASdata['SystemParameters'].keys())\n",
    "\n",
    "# to close the file you will have to use fdata.close()"
   ]
  },
  {
   "cell_type": "markdown",
   "id": "544dc9c9",
   "metadata": {},
   "source": [
    "## Running Cosmic Integration\n",
    "\n",
    "We will now calculate the merger rate for BBHs using the script FastCosmicIntegration, and plot it as a function of redshift. \n",
    "Running this code will create a plot with four panels that show the properties of the BBHs.\n"
   ]
  },
  {
   "cell_type": "code",
   "execution_count": null,
   "id": "124252a5",
   "metadata": {},
   "outputs": [],
   "source": [
    "# Run FastCosmicIntegration\n",
    "# Change the path!! Note that this is the path without the filename\n",
    "!python FastCosmicIntegration_tutorial.py \\\n",
    "--dco_type 'BBH' \\\n",
    "--path '/Users/sashalvna/Research/Cosmic_integration_tutorial/' \\\n",
    "--filename 'COMPAS_Output.h5' \\\n",
    "--maxz 14 \\\n",
    "--dontAppend"
   ]
  },
  {
   "cell_type": "code",
   "execution_count": null,
   "id": "a8112338",
   "metadata": {},
   "outputs": [],
   "source": [
    "# Show the image in the notebook\n",
    "# If you change the parameters, change the name of the file here (name contains the SFRD parameter values)\n",
    "Image(filename='Rate_Infomu00.035_muz-0.23_alpha0.0_sigma00.39_sigmaz0.0_a0.01_b2.77_c2.9_d4.7.png', width=700)  "
   ]
  },
  {
   "cell_type": "markdown",
   "id": "2066f189",
   "metadata": {},
   "source": [
    "Let's go through each plot:\n",
    "\n",
    "- Top left plot shows the formation rate. This is rate at which the BBHs form, measured when the 2nd BH forms.\n",
    "\n",
    "- Top right plot shows the merger rate. This is the rate at which the BBHs actually merge (accounting for the delay time!)\n",
    "\n",
    "- Bottom left plot shows the detection rate. This is the rate at which the BBH mergers are detected, which depends on current detector capability. You can select the detector using the \"sensitivity\" argument when running FastCosmicIntegration\n",
    "\n",
    "- Bottom right plot shows the chirp mass distribution for the BBH mergers. This is a combination of the two black hole masses."
   ]
  },
  {
   "cell_type": "markdown",
   "id": "693919b1",
   "metadata": {},
   "source": [
    "## Varying the SFRD(Z, z)\n",
    "\n",
    "### SFRD(z) parameters; the defaults are from Neijssel et al 2019\n",
    "- $a$ = normalization of the SFRD(z), default=0.01 (aSF)\n",
    "- $b$ = low-redshift slope of the SFRD(z), default=2.77 (bSF)\n",
    "- $c$ = location of the peak of the SFRD(z), default=2.90 (cSF)\n",
    "- $d$ = high-redshift slope of the SFRD(z), default=4.70 (dSF)"
   ]
  },
  {
   "cell_type": "markdown",
   "id": "1e6b02c7",
   "metadata": {},
   "source": [
    "### Metallicity distribution (dP/dlogZ) parameters\n",
    "- $\\mu_0$ = mean metallicity at z=0, default=0.035 (mu0)\n",
    "- $\\mu_z$ = redshift evolution of mean metallicity, default=-0.23 (muz)\n",
    "- $\\sigma_0$ = variance/width of metallicity density distribution at z=0, default=0.39 (sigma0)\n",
    "- $\\sigma_z$ = redshift evolution of variance, default=0.0 (sigmaz)\n",
    "- $\\alpha$ = skewness of metallicity density distribution (negative value = low-metallicity tail), default=0.0  (alpha)"
   ]
  },
  {
   "cell_type": "code",
   "execution_count": null,
   "id": "d545839a",
   "metadata": {},
   "outputs": [],
   "source": [
    "# Let's try changing one of the SFRD(z) parameters, adding some skewness to the metallicity distribution"
   ]
  },
  {
   "cell_type": "code",
   "execution_count": null,
   "id": "80cca53a",
   "metadata": {},
   "outputs": [],
   "source": [
    "# Show the image in the notebook\n",
    "# Note that we need to change the name of the file to match!\n"
   ]
  },
  {
   "cell_type": "markdown",
   "id": "ee4b4353",
   "metadata": {},
   "source": [
    "## Exercise 1:\n",
    "\n",
    "Run FastCosmicIntegration, varying one SFRD parameter at a time. What effect does each parameter have on the merger rate? The other plots?\n",
    "(Hint: the names of the arguments are listed in parentheses in the list of parameters above)"
   ]
  },
  {
   "cell_type": "code",
   "execution_count": null,
   "id": "121dbbd4",
   "metadata": {},
   "outputs": [],
   "source": []
  },
  {
   "cell_type": "markdown",
   "id": "57f59997",
   "metadata": {},
   "source": [
    "## Exercise 2:\n",
    "\n",
    "Run FastCosmicIntegration, varying the parameters according to the fiducial/min/max values in van Son et al 2023 (Table 2 of https://arxiv.org/pdf/2209.03385). What is the miminum and maximum local (z=0) merger rate that you can get? "
   ]
  },
  {
   "cell_type": "code",
   "execution_count": null,
   "id": "8de881b7",
   "metadata": {},
   "outputs": [],
   "source": []
  },
  {
   "cell_type": "markdown",
   "id": "b8c6ad84",
   "metadata": {},
   "source": [
    "## Other FastCosmicIntegration options\n",
    "\n",
    "We have so far only varied the SFRD(Z, z) parameters when running FastCosmicIntegration. \n",
    "If you open FastCosmicIntegration.py and go to the bottom of the file, you will see a list of arguments. These are the options you can use when running FastCosmicIntegration. Try changing some arguments we haven't used yet from their defaults:\n",
    "\n",
    "1. Change the maximum redshift of detection. How does this affect the cumulative detection rate plot?\n",
    "2. Change the detector sensitivity. How does this affect the cumulative detection rate plot?\n",
    "3. Change the redshift of first star formation to a lower redshift. How does this affect the rates?\n",
    "4. Now change any arguments you'd like! What do you expect to see? What do you see?"
   ]
  },
  {
   "cell_type": "code",
   "execution_count": null,
   "id": "75509acb",
   "metadata": {},
   "outputs": [],
   "source": []
  },
  {
   "cell_type": "code",
   "execution_count": null,
   "id": "b5fa615e",
   "metadata": {},
   "outputs": [],
   "source": []
  },
  {
   "cell_type": "code",
   "execution_count": null,
   "id": "128138d2",
   "metadata": {},
   "outputs": [],
   "source": []
  },
  {
   "cell_type": "code",
   "execution_count": null,
   "id": "819a0e28",
   "metadata": {},
   "outputs": [],
   "source": []
  },
  {
   "cell_type": "markdown",
   "id": "3e78c305",
   "metadata": {},
   "source": [
    "# Extra material:"
   ]
  },
  {
   "cell_type": "markdown",
   "id": "0b84006f",
   "metadata": {},
   "source": [
    "## Compact Object Mergers: Population Astrophysics & Statistics\n",
    "\n",
    "[![Documentation](https://img.shields.io/badge/Documentation-latest-orange.svg?style=flat)](https://github.com/TeamCOMPAS/COMPAS/blob/Documentation/COMPAS_Documentation.pdf)\n",
    "\n",
    "COMPAS is a publicly available rapid binary population synthesis code (https://compas.science/) that is designed so that evolution prescriptions and model parameters are easily \n",
    "adjustable.  COMPAS draws properties for a binary star system from a set of initial distributions, and evolves it from zero-age main sequence to the end of its life as two compact \n",
    "remnants.  It has been used for inference from observations of gravitational-wave mergers, Galactic neutron stars, X-ray binaries, and luminous red novae.\n",
    "\n",
    "### Documentation\n",
    "https://compas.science/docs"
   ]
  },
  {
   "cell_type": "markdown",
   "id": "ef01e48b",
   "metadata": {},
   "source": []
  }
 ],
 "metadata": {
  "kernelspec": {
   "display_name": "compas",
   "language": "python",
   "name": "python3"
  },
  "language_info": {
   "codemirror_mode": {
    "name": "ipython",
    "version": 3
   },
   "file_extension": ".py",
   "mimetype": "text/x-python",
   "name": "python",
   "nbconvert_exporter": "python",
   "pygments_lexer": "ipython3",
   "version": "3.10.0"
  }
 },
 "nbformat": 4,
 "nbformat_minor": 5
}
